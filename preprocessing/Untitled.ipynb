{
 "cells": [
  {
   "cell_type": "code",
   "execution_count": 1,
   "id": "c408f064",
   "metadata": {},
   "outputs": [],
   "source": [
    "from main_preprocessor import preprocess_data"
   ]
  },
  {
   "cell_type": "code",
   "execution_count": 3,
   "id": "497bd65d",
   "metadata": {},
   "outputs": [
    {
     "name": "stdout",
     "output_type": "stream",
     "text": [
      "Pre-processing of \"home/sara/Documents/Studium/22S/AI in Life Sciences/BIMODAL/data/smiles_train\" started.\n",
      " invalid SMILES - removed.\n",
      " duplicate SMILES - removed.\n",
      " salts - removed.\n",
      " stereochemistry - removed.\n",
      " canonicalized SMILES.\n",
      "Data processed saved\n"
     ]
    }
   ],
   "source": [
    "preprocess_data(filename_in='home/sara/Documents/Studium/22S/AI in Life Sciences/BIMODAL/data/smiles_train', model_type='BIMODAL', starting_point='fixed', augmentation=1)"
   ]
  },
  {
   "cell_type": "code",
   "execution_count": null,
   "id": "120a0d8f",
   "metadata": {},
   "outputs": [],
   "source": []
  }
 ],
 "metadata": {
  "kernelspec": {
   "display_name": "Python 3",
   "language": "python",
   "name": "python3"
  },
  "language_info": {
   "codemirror_mode": {
    "name": "ipython",
    "version": 3
   },
   "file_extension": ".py",
   "mimetype": "text/x-python",
   "name": "python",
   "nbconvert_exporter": "python",
   "pygments_lexer": "ipython3",
   "version": "3.7.12"
  }
 },
 "nbformat": 4,
 "nbformat_minor": 5
}
